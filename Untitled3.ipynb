{
 "cells": [
  {
   "cell_type": "code",
   "execution_count": 1,
   "metadata": {},
   "outputs": [],
   "source": [
    "import redis\n",
    "import ast\n",
    "import json\n",
    "from datetime import datetime"
   ]
  },
  {
   "cell_type": "code",
   "execution_count": 16,
   "metadata": {},
   "outputs": [],
   "source": [
    "r = redis.StrictRedis(host='localhost', port=6379)"
   ]
  },
  {
   "cell_type": "code",
   "execution_count": 17,
   "metadata": {},
   "outputs": [],
   "source": [
    "d = {'ID': 3,\n",
    "  'Number': 'DN-150-86',\n",
    "  'Name': 'some display name 5',\n",
    "  'GuestRooms': 1,\n",
    "  'MeetingRooms': 1,\n",
    "  'Lite': False,\n",
    "  'Pan': False,\n",
    "  'CreatedUTC': '2014-01-04T07:38:24.470000',\n",
    "  'GoLiveUTC': None,\n",
    "  'Status': 'deactive',\n",
    "  'TimeZone': '2',\n",
    "  'ServiceAreas': ['DN-150-86', 'FF-471-20'],\n",
    "  'ActiveMembers': 2,\n",
    "  'ActiveDevices': 2,\n",
    "  'UpdateTime': '2018-05-26T12:57:52.359363'}\n",
    "d2 = {'ID': 4,\n",
    "  'Number': 'DN-150-86',\n",
    "  'Name': 'some display name 6',\n",
    "  'GuestRooms': 2,\n",
    "  'MeetingRooms': 1,\n",
    "  'Lite': False,\n",
    "  'Pan': False,\n",
    "  'CreatedUTC': '2014-01-04T07:38:24.470000',\n",
    "  'GoLiveUTC': None,\n",
    "  'Status': 'deactive',\n",
    "  'TimeZone': '2',\n",
    "  'ServiceAreas': ['DN-150-86', 'FF-471-20'],\n",
    "  'ActiveMembers': 2,\n",
    "  'ActiveDevices': 2,\n",
    "  'UpdateTime': '2018-05-26T12:57:52.359363'}\n",
    "d3 = {'ID': 5,\n",
    "  'Number': 'DN-150-86',\n",
    "  'Name': 'some display name 6',\n",
    "  'GuestRooms': 2,\n",
    "  'MeetingRooms': 1,\n",
    "  'Lite': False,\n",
    "  'Pan': False,\n",
    "  'CreatedUTC': '2014-01-04T07:38:24.470000',\n",
    "  'GoLiveUTC': None,\n",
    "  'Status': 'deactive',\n",
    "  'TimeZone': '2',\n",
    "  'ServiceAreas': ['DN-150-87'],\n",
    "  'ActiveMembers': 2,\n",
    "  'ActiveDevices': 2,\n",
    "  'UpdateTime': '2018-05-26T12:57:52.359363'}\n",
    "d4 = {'ID': 6,\n",
    "  'Number': 'DN-150-86',\n",
    "  'Name': 'some display name 6',\n",
    "  'GuestRooms': 2,\n",
    "  'MeetingRooms': 1,\n",
    "  'Lite': False,\n",
    "  'Pan': False,\n",
    "  'CreatedUTC': '2014-01-04T07:38:24.470000',\n",
    "  'GoLiveUTC': None,\n",
    "  'Status': 'deactive',\n",
    "  'TimeZone': '2',\n",
    "  'ServiceAreas': ['DN-150-87', 'FF-471-20'],\n",
    "  'ActiveMembers': 2,\n",
    "  'ActiveDevices': 2,\n",
    "  'UpdateTime': '2018-05-26T12:57:52.359363'}"
   ]
  },
  {
   "cell_type": "code",
   "execution_count": 28,
   "metadata": {},
   "outputs": [
    {
     "ename": "TypeError",
     "evalue": "the JSON object must be str, bytes or bytearray, not 'dict_items'",
     "output_type": "error",
     "traceback": [
      "\u001b[0;31m---------------------------------------------------------------------------\u001b[0m",
      "\u001b[0;31mTypeError\u001b[0m                                 Traceback (most recent call last)",
      "\u001b[0;32m<ipython-input-28-eb7f3d3ea656>\u001b[0m in \u001b[0;36m<module>\u001b[0;34m()\u001b[0m\n\u001b[1;32m      1\u001b[0m \u001b[0;31m# r.hmset(d['ServiceAreas'][0], d)\u001b[0m\u001b[0;34m\u001b[0m\u001b[0;34m\u001b[0m\u001b[0m\n\u001b[1;32m      2\u001b[0m \u001b[0mres\u001b[0m \u001b[0;34m=\u001b[0m \u001b[0mr\u001b[0m\u001b[0;34m.\u001b[0m\u001b[0mhgetall\u001b[0m\u001b[0;34m(\u001b[0m\u001b[0;34m'DN-150-86'\u001b[0m\u001b[0;34m)\u001b[0m\u001b[0;34m.\u001b[0m\u001b[0mitems\u001b[0m\u001b[0;34m(\u001b[0m\u001b[0;34m)\u001b[0m\u001b[0;34m\u001b[0m\u001b[0m\n\u001b[0;32m----> 3\u001b[0;31m \u001b[0mjson\u001b[0m\u001b[0;34m.\u001b[0m\u001b[0mloads\u001b[0m\u001b[0;34m(\u001b[0m\u001b[0mres\u001b[0m\u001b[0;34m)\u001b[0m\u001b[0;34m\u001b[0m\u001b[0m\n\u001b[0m",
      "\u001b[0;32m/usr/lib/python3.6/json/__init__.py\u001b[0m in \u001b[0;36mloads\u001b[0;34m(s, encoding, cls, object_hook, parse_float, parse_int, parse_constant, object_pairs_hook, **kw)\u001b[0m\n\u001b[1;32m    346\u001b[0m         \u001b[0;32mif\u001b[0m \u001b[0;32mnot\u001b[0m \u001b[0misinstance\u001b[0m\u001b[0;34m(\u001b[0m\u001b[0ms\u001b[0m\u001b[0;34m,\u001b[0m \u001b[0;34m(\u001b[0m\u001b[0mbytes\u001b[0m\u001b[0;34m,\u001b[0m \u001b[0mbytearray\u001b[0m\u001b[0;34m)\u001b[0m\u001b[0;34m)\u001b[0m\u001b[0;34m:\u001b[0m\u001b[0;34m\u001b[0m\u001b[0m\n\u001b[1;32m    347\u001b[0m             raise TypeError('the JSON object must be str, bytes or bytearray, '\n\u001b[0;32m--> 348\u001b[0;31m                             'not {!r}'.format(s.__class__.__name__))\n\u001b[0m\u001b[1;32m    349\u001b[0m         \u001b[0ms\u001b[0m \u001b[0;34m=\u001b[0m \u001b[0ms\u001b[0m\u001b[0;34m.\u001b[0m\u001b[0mdecode\u001b[0m\u001b[0;34m(\u001b[0m\u001b[0mdetect_encoding\u001b[0m\u001b[0;34m(\u001b[0m\u001b[0ms\u001b[0m\u001b[0;34m)\u001b[0m\u001b[0;34m,\u001b[0m \u001b[0;34m'surrogatepass'\u001b[0m\u001b[0;34m)\u001b[0m\u001b[0;34m\u001b[0m\u001b[0m\n\u001b[1;32m    350\u001b[0m \u001b[0;34m\u001b[0m\u001b[0m\n",
      "\u001b[0;31mTypeError\u001b[0m: the JSON object must be str, bytes or bytearray, not 'dict_items'"
     ]
    }
   ],
   "source": [
    "# r.hmset(d['ServiceAreas'][0], d)\n",
    "res = r.hgetall('DN-150-86').items()\n",
    "jn.loads(res)"
   ]
  },
  {
   "cell_type": "code",
   "execution_count": 121,
   "metadata": {},
   "outputs": [],
   "source": [
    "# %%timeit -r 4\n",
    "# for i in range(6000):\n",
    "# d.update({'ID': str(i), 'UpdateTime': datetime.now().strftime('%Y-%m-%dT%H:%M:%S.%f')})\n",
    "# r.set(str(i), d)\n",
    "# r.rpush('DN-150-86', str(d), str(d2))\n",
    "# r.set('DN-150-86', d)\n",
    "# r.lrange('DN-150-86', 0, -1)\n",
    "# r.sadd('DN-150-86:ids', '1', '2')\n",
    "# r.flushall()"
   ]
  },
  {
   "cell_type": "code",
   "execution_count": 4,
   "metadata": {},
   "outputs": [],
   "source": [
    "# for service_area in d['ServiceAreas']:\n",
    "#     r.set('{0}:{1}'.format(service_area, d['ID']), d)\n",
    "# r.set('record:1', d2)\n",
    "# r.set('record:2', d2)"
   ]
  },
  {
   "cell_type": "code",
   "execution_count": 22,
   "metadata": {},
   "outputs": [
    {
     "data": {
      "text/plain": [
       "[]"
      ]
     },
     "execution_count": 22,
     "metadata": {},
     "output_type": "execute_result"
    }
   ],
   "source": [
    "# service_areas_keys = r.keys(pattern='*FF-471-20*')\n",
    "# for service_area in service_areas_keys:\n",
    "#     print(service_area)\n",
    "#     res = r.get(service_area).decode('utf-8')\n",
    "#     d = ast.literal_eval(res)\n",
    "#     print(d)\n",
    "r.keys(pattern='*FF-471-20*')"
   ]
  },
  {
   "cell_type": "code",
   "execution_count": 26,
   "metadata": {},
   "outputs": [
    {
     "name": "stdout",
     "output_type": "stream",
     "text": [
      "{b'3'}\n",
      "3\n",
      "b\"{'ID': 3, 'Number': 'FF-471-20', 'Name': 'some display name 1', 'GuestRooms': 1, 'MeetingRooms': 1, 'Lite': False, 'Pan': False, 'CreatedUTC': datetime.datetime(2014, 1, 4, 7, 38, 24, 370000), 'GoLiveUTC': None, 'Status': 'active', 'TimeZone': '1', 'ServiceAreas': ['FF-471-20'], 'ActiveMembers': 2, 'ActiveDevices': 2, 'UpdateTime': '2018-06-10T16:19:05.433658'}\"\n"
     ]
    }
   ],
   "source": [
    "import ast\n",
    "area_ids = r.smembers('ids:FF-471-20')\n",
    "print(area_ids)\n",
    "for area_id in area_ids:\n",
    "    print(area_id.decode('utf-8'))\n",
    "    record = r.get('record:'+area_id.decode('utf-8'))\n",
    "    print(record)\n",
    "#     print(ast.literal_eval(record.decode('utf-8')))\n",
    "# result = r.lrange('DN-150-86', 0, -1)\n",
    "# result_d = result[0].decode('utf-8')\n",
    "# result_d"
   ]
  },
  {
   "cell_type": "code",
   "execution_count": 12,
   "metadata": {},
   "outputs": [],
   "source": [
    "import ast\n",
    "dd = ast.literal_eval(result_d)"
   ]
  },
  {
   "cell_type": "code",
   "execution_count": 14,
   "metadata": {},
   "outputs": [
    {
     "data": {
      "text/plain": [
       "{'Number': 'DN-150-86',\n",
       " 'Name': 'some display name 5',\n",
       " 'GuestRooms': 1,\n",
       " 'MeetingRooms': 1,\n",
       " 'Lite': False,\n",
       " 'Pan': False,\n",
       " 'CreatedUTC': '2014-01-04T07:38:24.470000',\n",
       " 'GoLiveUTC': None,\n",
       " 'Status': 'deactive',\n",
       " 'TimeZone': '2',\n",
       " 'ServiceAreas': ['DN-150-86', 'FF-471-20'],\n",
       " 'ActiveMembers': 2,\n",
       " 'ActiveDevices': 2,\n",
       " 'UpdateTime': '2018-05-26T12:57:52.359363'}"
      ]
     },
     "execution_count": 14,
     "metadata": {},
     "output_type": "execute_result"
    }
   ],
   "source": [
    "dd"
   ]
  },
  {
   "cell_type": "code",
   "execution_count": null,
   "metadata": {},
   "outputs": [],
   "source": []
  }
 ],
 "metadata": {
  "kernelspec": {
   "display_name": "Python 3",
   "language": "python",
   "name": "python3"
  },
  "language_info": {
   "codemirror_mode": {
    "name": "ipython",
    "version": 3
   },
   "file_extension": ".py",
   "mimetype": "text/x-python",
   "name": "python",
   "nbconvert_exporter": "python",
   "pygments_lexer": "ipython3",
   "version": "3.6.5"
  }
 },
 "nbformat": 4,
 "nbformat_minor": 2
}
