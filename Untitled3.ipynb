{
 "cells": [
  {
   "cell_type": "code",
   "execution_count": 1,
   "metadata": {},
   "outputs": [],
   "source": [
    "import redis\n",
    "from datetime import datetime"
   ]
  },
  {
   "cell_type": "code",
   "execution_count": 2,
   "metadata": {},
   "outputs": [],
   "source": [
    "r = redis.StrictRedis(host='localhost', port=6379, db=0)"
   ]
  },
  {
   "cell_type": "code",
   "execution_count": 3,
   "metadata": {},
   "outputs": [],
   "source": [
    "d = {'ID': 3,\n",
    "  'Number': 'DN-150-86',\n",
    "  'Name': 'some display name 5',\n",
    "  'GuestRooms': 1,\n",
    "  'MeetingRooms': 1,\n",
    "  'Lite': False,\n",
    "  'Pan': False,\n",
    "  'CreatedUTC': '2014-01-04T07:38:24.470000',\n",
    "  'GoLiveUTC': None,\n",
    "  'Status': 'deactive',\n",
    "  'TimeZone': '2',\n",
    "  'ServiceAreas': ['DN-150-86', 'FF-471-20'],\n",
    "  'ActiveMembers': 2,\n",
    "  'ActiveDevices': 2,\n",
    "  'UpdateTime': '2018-05-26T12:57:52.359363'}\n",
    "d2 = {'ID': 4,\n",
    "  'Number': 'DN-150-86',\n",
    "  'Name': 'some display name 6',\n",
    "  'GuestRooms': 2,\n",
    "  'MeetingRooms': 1,\n",
    "  'Lite': False,\n",
    "  'Pan': False,\n",
    "  'CreatedUTC': '2014-01-04T07:38:24.470000',\n",
    "  'GoLiveUTC': None,\n",
    "  'Status': 'deactive',\n",
    "  'TimeZone': '2',\n",
    "  'ServiceAreas': ['DN-150-86', 'FF-471-20'],\n",
    "  'ActiveMembers': 2,\n",
    "  'ActiveDevices': 2,\n",
    "  'UpdateTime': '2018-05-26T12:57:52.359363'}\n"
   ]
  },
  {
   "cell_type": "code",
   "execution_count": 4,
   "metadata": {},
   "outputs": [
    {
     "data": {
      "text/plain": [
       "[b\"{'ID': 4, 'Number': 'DN-150-86', 'Name': 'some display name 2', 'GuestRooms': 1, 'MeetingRooms': 1, 'Lite': False, 'Pan': False, 'CreatedUTC': datetime.datetime(2014, 1, 4, 7, 38, 24, 470000), 'GoLiveUTC': None, 'Status': 'deactive', 'TimeZone': '2', 'ServiceAreas': ['DN-150-86'], 'ActiveMembers': 2, 'ActiveDevices': 2, 'UpdateTime': '2018-06-08T12:37:02.026061'}\",\n",
       " b\"{'ID': 4, 'Number': 'DN-150-86', 'Name': 'some display name 2', 'GuestRooms': 1, 'MeetingRooms': 1, 'Lite': False, 'Pan': False, 'CreatedUTC': datetime.datetime(2014, 1, 4, 7, 38, 24, 470000), 'GoLiveUTC': None, 'Status': 'deactive', 'TimeZone': '2', 'ServiceAreas': ['DN-150-86'], 'ActiveMembers': 2, 'ActiveDevices': 2, 'UpdateTime': '2018-06-08T12:37:02.363773'}\",\n",
       " b\"{'ID': 4, 'Number': 'DN-150-86', 'Name': 'some display name 2', 'GuestRooms': 1, 'MeetingRooms': 1, 'Lite': False, 'Pan': False, 'CreatedUTC': datetime.datetime(2014, 1, 4, 7, 38, 24, 470000), 'GoLiveUTC': None, 'Status': 'deactive', 'TimeZone': '2', 'ServiceAreas': ['DN-150-86'], 'ActiveMembers': 2, 'ActiveDevices': 2, 'UpdateTime': '2018-06-08T12:37:02.548330'}\",\n",
       " b\"{'ID': 4, 'Number': 'DN-150-86', 'Name': 'some display name 2', 'GuestRooms': 1, 'MeetingRooms': 1, 'Lite': False, 'Pan': False, 'CreatedUTC': datetime.datetime(2014, 1, 4, 7, 38, 24, 470000), 'GoLiveUTC': None, 'Status': 'deactive', 'TimeZone': '2', 'ServiceAreas': ['DN-150-86'], 'ActiveMembers': 2, 'ActiveDevices': 2, 'UpdateTime': '2018-06-08T12:37:02.622147'}\",\n",
       " b\"{'ID': 4, 'Number': 'DN-150-86', 'Name': 'some display name 2', 'GuestRooms': 1, 'MeetingRooms': 1, 'Lite': False, 'Pan': False, 'CreatedUTC': datetime.datetime(2014, 1, 4, 7, 38, 24, 470000), 'GoLiveUTC': None, 'Status': 'deactive', 'TimeZone': '2', 'ServiceAreas': ['DN-150-86'], 'ActiveMembers': 2, 'ActiveDevices': 2, 'UpdateTime': '2018-06-08T12:37:02.695705'}\",\n",
       " b\"{'ID': 4, 'Number': 'DN-150-86', 'Name': 'some display name 2', 'GuestRooms': 1, 'MeetingRooms': 1, 'Lite': False, 'Pan': False, 'CreatedUTC': datetime.datetime(2014, 1, 4, 7, 38, 24, 470000), 'GoLiveUTC': None, 'Status': 'deactive', 'TimeZone': '2', 'ServiceAreas': ['DN-150-86'], 'ActiveMembers': 2, 'ActiveDevices': 2, 'UpdateTime': '2018-06-08T12:37:02.766481'}\",\n",
       " b\"{'ID': 4, 'Number': 'DN-150-86', 'Name': 'some display name 2', 'GuestRooms': 1, 'MeetingRooms': 1, 'Lite': False, 'Pan': False, 'CreatedUTC': datetime.datetime(2014, 1, 4, 7, 38, 24, 470000), 'GoLiveUTC': None, 'Status': 'deactive', 'TimeZone': '2', 'ServiceAreas': ['DN-150-86'], 'ActiveMembers': 2, 'ActiveDevices': 2, 'UpdateTime': '2018-06-08T12:37:02.867173'}\",\n",
       " b\"{'ID': 4, 'Number': 'DN-150-86', 'Name': 'some display name 2', 'GuestRooms': 1, 'MeetingRooms': 1, 'Lite': False, 'Pan': False, 'CreatedUTC': datetime.datetime(2014, 1, 4, 7, 38, 24, 470000), 'GoLiveUTC': None, 'Status': 'deactive', 'TimeZone': '2', 'ServiceAreas': ['DN-150-86'], 'ActiveMembers': 2, 'ActiveDevices': 2, 'UpdateTime': '2018-06-08T12:37:02.941641'}\",\n",
       " b\"{'ID': 4, 'Number': 'DN-150-86', 'Name': 'some display name 2', 'GuestRooms': 1, 'MeetingRooms': 1, 'Lite': False, 'Pan': False, 'CreatedUTC': datetime.datetime(2014, 1, 4, 7, 38, 24, 470000), 'GoLiveUTC': None, 'Status': 'deactive', 'TimeZone': '2', 'ServiceAreas': ['DN-150-86'], 'ActiveMembers': 2, 'ActiveDevices': 2, 'UpdateTime': '2018-06-08T12:37:03.029807'}\",\n",
       " b\"{'ID': 4, 'Number': 'DN-150-86', 'Name': 'some display name 2', 'GuestRooms': 1, 'MeetingRooms': 1, 'Lite': False, 'Pan': False, 'CreatedUTC': datetime.datetime(2014, 1, 4, 7, 38, 24, 470000), 'GoLiveUTC': None, 'Status': 'deactive', 'TimeZone': '2', 'ServiceAreas': ['DN-150-86'], 'ActiveMembers': 2, 'ActiveDevices': 2, 'UpdateTime': '2018-06-08T12:37:03.105852'}\",\n",
       " b\"{'ID': 4, 'Number': 'DN-150-86', 'Name': 'some display name 2', 'GuestRooms': 1, 'MeetingRooms': 1, 'Lite': False, 'Pan': False, 'CreatedUTC': datetime.datetime(2014, 1, 4, 7, 38, 24, 470000), 'GoLiveUTC': None, 'Status': 'deactive', 'TimeZone': '2', 'ServiceAreas': ['DN-150-86'], 'ActiveMembers': 2, 'ActiveDevices': 2, 'UpdateTime': '2018-06-08T12:37:03.193633'}\",\n",
       " b\"{'ID': 4, 'Number': 'DN-150-86', 'Name': 'some display name 2', 'GuestRooms': 1, 'MeetingRooms': 1, 'Lite': False, 'Pan': False, 'CreatedUTC': datetime.datetime(2014, 1, 4, 7, 38, 24, 470000), 'GoLiveUTC': None, 'Status': 'deactive', 'TimeZone': '2', 'ServiceAreas': ['DN-150-86'], 'ActiveMembers': 2, 'ActiveDevices': 2, 'UpdateTime': '2018-06-08T12:37:03.277165'}\",\n",
       " b\"{'ID': 4, 'Number': 'DN-150-86', 'Name': 'some display name 2', 'GuestRooms': 1, 'MeetingRooms': 1, 'Lite': False, 'Pan': False, 'CreatedUTC': datetime.datetime(2014, 1, 4, 7, 38, 24, 470000), 'GoLiveUTC': None, 'Status': 'deactive', 'TimeZone': '2', 'ServiceAreas': ['DN-150-86'], 'ActiveMembers': 2, 'ActiveDevices': 2, 'UpdateTime': '2018-06-08T12:37:03.356333'}\",\n",
       " b\"{'ID': 4, 'Number': 'DN-150-86', 'Name': 'some display name 2', 'GuestRooms': 1, 'MeetingRooms': 1, 'Lite': False, 'Pan': False, 'CreatedUTC': datetime.datetime(2014, 1, 4, 7, 38, 24, 470000), 'GoLiveUTC': None, 'Status': 'deactive', 'TimeZone': '2', 'ServiceAreas': ['DN-150-86'], 'ActiveMembers': 2, 'ActiveDevices': 2, 'UpdateTime': '2018-06-08T12:37:03.424353'}\",\n",
       " b\"{'ID': 4, 'Number': 'DN-150-86', 'Name': 'some display name 2', 'GuestRooms': 1, 'MeetingRooms': 1, 'Lite': False, 'Pan': False, 'CreatedUTC': datetime.datetime(2014, 1, 4, 7, 38, 24, 470000), 'GoLiveUTC': None, 'Status': 'deactive', 'TimeZone': '2', 'ServiceAreas': ['DN-150-86'], 'ActiveMembers': 2, 'ActiveDevices': 2, 'UpdateTime': '2018-06-08T12:37:03.493759'}\"]"
      ]
     },
     "execution_count": 4,
     "metadata": {},
     "output_type": "execute_result"
    }
   ],
   "source": [
    "# %%timeit -r 4\n",
    "# for i in range(6000):\n",
    "#     d.update({'ID': str(i), 'UpdateTime': datetime.now().strftime('%Y-%m-%dT%H:%M:%S.%f')})\n",
    "#     r.set(str(i), d)\n",
    "# r.rpush('DN-150-86', str(d), str(d2))\n",
    "# r.set('DN-150-86', d)\n",
    "r.lrange('DN-150-86', 0, -1)"
   ]
  },
  {
   "cell_type": "code",
   "execution_count": 23,
   "metadata": {},
   "outputs": [],
   "source": [
    "# r.set('DN-150-86', d2)\n",
    "# r.get('DN-150-86')"
   ]
  },
  {
   "cell_type": "code",
   "execution_count": 11,
   "metadata": {},
   "outputs": [
    {
     "data": {
      "text/plain": [
       "\"{'Number': 'DN-150-86', 'Name': 'some display name 5', 'GuestRooms': 1, 'MeetingRooms': 1, 'Lite': False, 'Pan': False, 'CreatedUTC': '2014-01-04T07:38:24.470000', 'GoLiveUTC': None, 'Status': 'deactive', 'TimeZone': '2', 'ServiceAreas': ['DN-150-86', 'FF-471-20'], 'ActiveMembers': 2, 'ActiveDevices': 2, 'UpdateTime': '2018-05-26T12:57:52.359363'}\""
      ]
     },
     "execution_count": 11,
     "metadata": {},
     "output_type": "execute_result"
    }
   ],
   "source": [
    "# result = r.lrange('DN-150-86', 0, -1)\n",
    "# result_d = result[0].decode('utf-8')\n",
    "# result_d"
   ]
  },
  {
   "cell_type": "code",
   "execution_count": 12,
   "metadata": {},
   "outputs": [],
   "source": [
    "import ast\n",
    "dd = ast.literal_eval(result_d)"
   ]
  },
  {
   "cell_type": "code",
   "execution_count": 14,
   "metadata": {},
   "outputs": [
    {
     "data": {
      "text/plain": [
       "{'Number': 'DN-150-86',\n",
       " 'Name': 'some display name 5',\n",
       " 'GuestRooms': 1,\n",
       " 'MeetingRooms': 1,\n",
       " 'Lite': False,\n",
       " 'Pan': False,\n",
       " 'CreatedUTC': '2014-01-04T07:38:24.470000',\n",
       " 'GoLiveUTC': None,\n",
       " 'Status': 'deactive',\n",
       " 'TimeZone': '2',\n",
       " 'ServiceAreas': ['DN-150-86', 'FF-471-20'],\n",
       " 'ActiveMembers': 2,\n",
       " 'ActiveDevices': 2,\n",
       " 'UpdateTime': '2018-05-26T12:57:52.359363'}"
      ]
     },
     "execution_count": 14,
     "metadata": {},
     "output_type": "execute_result"
    }
   ],
   "source": [
    "dd"
   ]
  },
  {
   "cell_type": "code",
   "execution_count": null,
   "metadata": {},
   "outputs": [],
   "source": []
  }
 ],
 "metadata": {
  "kernelspec": {
   "display_name": "Python 3",
   "language": "python",
   "name": "python3"
  },
  "language_info": {
   "codemirror_mode": {
    "name": "ipython",
    "version": 3
   },
   "file_extension": ".py",
   "mimetype": "text/x-python",
   "name": "python",
   "nbconvert_exporter": "python",
   "pygments_lexer": "ipython3",
   "version": "3.6.5"
  }
 },
 "nbformat": 4,
 "nbformat_minor": 2
}
