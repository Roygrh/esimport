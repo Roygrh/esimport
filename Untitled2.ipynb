{
 "cells": [
  {
   "cell_type": "code",
   "execution_count": 57,
   "metadata": {},
   "outputs": [],
   "source": [
    "from datadog import initialize, api\n",
    "import time\n",
    "from datetime import datetime"
   ]
  },
  {
   "cell_type": "code",
   "execution_count": 58,
   "metadata": {},
   "outputs": [],
   "source": [
    "options = {'api_key': '74ea99765e531c387cc100fd62e805f7',\n",
    "           'app_key': '4f1a5a38c0baa3957ddbb5fa416a7043ca888da4'}"
   ]
  },
  {
   "cell_type": "code",
   "execution_count": 59,
   "metadata": {},
   "outputs": [],
   "source": [
    "initialize(**options)"
   ]
  },
  {
   "cell_type": "code",
   "execution_count": 60,
   "metadata": {},
   "outputs": [],
   "source": [
    "from_time = int(time.time()) - 60*60*24*1"
   ]
  },
  {
   "cell_type": "code",
   "execution_count": 61,
   "metadata": {},
   "outputs": [
    {
     "data": {
      "text/plain": [
       "1534710808"
      ]
     },
     "execution_count": 61,
     "metadata": {},
     "output_type": "execute_result"
    }
   ],
   "source": [
    "from_time"
   ]
  },
  {
   "cell_type": "code",
   "execution_count": 65,
   "metadata": {},
   "outputs": [],
   "source": [
    "result = api.Metric.send(metric='account.latest', points=0)"
   ]
  },
  {
   "cell_type": "code",
   "execution_count": 17,
   "metadata": {},
   "outputs": [],
   "source": [
    "from elasticsearch import Elasticsearch\n",
    "es = Elasticsearch('localhost:9200')"
   ]
  },
  {
   "cell_type": "code",
   "execution_count": 30,
   "metadata": {},
   "outputs": [
    {
     "data": {
      "text/plain": [
       "{'took': 3,\n",
       " 'timed_out': False,\n",
       " '_shards': {'total': 9, 'successful': 9, 'failed': 0},\n",
       " 'hits': {'total': 1,\n",
       "  'max_score': 1.0,\n",
       "  'hits': [{'_index': 'esrecord',\n",
       "    '_type': 'account',\n",
       "    '_id': '1',\n",
       "    '_score': 1.0,\n",
       "    '_source': {'ID': 1,\n",
       "     'Name': 'cc-9886_79C66442-7E37-4B0D-B512-E7D1C9EDFC11',\n",
       "     'MemberNumber': '1',\n",
       "     'Status': 'Status',\n",
       "     'ServiceArea': 'FF-471-20',\n",
       "     'Price': 12.95,\n",
       "     'PurchaseMacAddress': '34-C0-59-D8-31-08',\n",
       "     'Activated': '2014-01-04T07:38:24.370000',\n",
       "     'Created': '2014-01-04T07:38:24.357000',\n",
       "     'DateModifiedUTC': None,\n",
       "     'ServicePlan': 'basic day',\n",
       "     'ServicePlanNumber': 'basic_day_01',\n",
       "     'UpCap': 1236,\n",
       "     'DownCap': 4196,\n",
       "     'NetworkAccessStartDateUTC': '2014-01-04T07:38:24.357000',\n",
       "     'NetworkAccessEndDateUTC': '2018-04-05T10:31:46.767000',\n",
       "     'PayMethod': 'Card',\n",
       "     'Currency': 'USD',\n",
       "     'CreditCardNumber': None,\n",
       "     'CardType': None,\n",
       "     'LastName': 'trava',\n",
       "     'RoomNumber': '4051',\n",
       "     'DiscountCode': 'DC03',\n",
       "     'ConsumableTime': 2,\n",
       "     'ConsumableUnit': 'Hours',\n",
       "     'SpanTime': None,\n",
       "     'SpanUnit': None,\n",
       "     'ConnectCode': None,\n",
       "     'MarketingContact': None,\n",
       "     'ZoneType': None,\n",
       "     'Duration': '2 Hours consumable'}}]}}"
      ]
     },
     "execution_count": 30,
     "metadata": {},
     "output_type": "execute_result"
    }
   ],
   "source": [
    "q = {'query': {'term': {'_type': 'account'}}}\n",
    "es.search(index='esrecord', body=q)"
   ]
  },
  {
   "cell_type": "code",
   "execution_count": 29,
   "metadata": {},
   "outputs": [
    {
     "data": {
      "text/plain": [
       "{'_index': 'esrecord',\n",
       " '_type': 'account',\n",
       " '_id': '1',\n",
       " '_version': 6,\n",
       " 'result': 'updated',\n",
       " '_shards': {'total': 2, 'successful': 1, 'failed': 0}}"
      ]
     },
     "execution_count": 29,
     "metadata": {},
     "output_type": "execute_result"
    }
   ],
   "source": [
    "es.update(index='esrecord', \n",
    "          doc_type='account',\n",
    "          id=1,\n",
    "          body={'doc': {'DateModifiedUTC': None}}\n",
    "         )\n",
    "# es.delete(index='esrecord',\n",
    "#           doc_type='account',\n",
    "#           id=3)"
   ]
  },
  {
   "cell_type": "code",
   "execution_count": 10,
   "metadata": {},
   "outputs": [],
   "source": [
    "from esimport.mappings.account import AccountMapping\n",
    "from datetime import datetime"
   ]
  },
  {
   "cell_type": "code",
   "execution_count": 11,
   "metadata": {},
   "outputs": [],
   "source": [
    "am = AccountMapping()\n",
    "am.setup()"
   ]
  },
  {
   "cell_type": "code",
   "execution_count": 48,
   "metadata": {},
   "outputs": [],
   "source": [
    "recent_date = am.get_most_recent_date('DateModifiedUTC')"
   ]
  },
  {
   "cell_type": "code",
   "execution_count": 78,
   "metadata": {},
   "outputs": [
    {
     "data": {
      "text/plain": [
       "159096.14945246666"
      ]
     },
     "execution_count": 78,
     "metadata": {},
     "output_type": "execute_result"
    }
   ],
   "source": [
    "now = datetime.utcnow()\n",
    "delta = (now - recent_date).total_seconds()\n",
    "delta/60"
   ]
  },
  {
   "cell_type": "code",
   "execution_count": 47,
   "metadata": {},
   "outputs": [],
   "source": [
    "# es.indices.delete(index='esrecord')"
   ]
  },
  {
   "cell_type": "code",
   "execution_count": null,
   "metadata": {},
   "outputs": [],
   "source": []
  }
 ],
 "metadata": {
  "kernelspec": {
   "display_name": "Python 3",
   "language": "python",
   "name": "python3"
  },
  "language_info": {
   "codemirror_mode": {
    "name": "ipython",
    "version": 3
   },
   "file_extension": ".py",
   "mimetype": "text/x-python",
   "name": "python",
   "nbconvert_exporter": "python",
   "pygments_lexer": "ipython3",
   "version": "3.6.5"
  }
 },
 "nbformat": 4,
 "nbformat_minor": 2
}
