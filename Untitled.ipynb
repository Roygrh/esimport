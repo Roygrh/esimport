{
 "cells": [
  {
   "cell_type": "code",
   "execution_count": 1,
   "metadata": {},
   "outputs": [],
   "source": [
    "from elasticsearch import Elasticsearch"
   ]
  },
  {
   "cell_type": "code",
   "execution_count": 2,
   "metadata": {},
   "outputs": [],
   "source": [
    "es = Elasticsearch('localhost:9200')"
   ]
  },
  {
   "cell_type": "code",
   "execution_count": 60,
   "metadata": {},
   "outputs": [
    {
     "data": {
      "text/plain": [
       "{'acknowledged': True}"
      ]
     },
     "execution_count": 60,
     "metadata": {},
     "output_type": "execute_result"
    }
   ],
   "source": [
    "es.indices.delete(index='esrecord')"
   ]
  },
  {
   "cell_type": "code",
   "execution_count": 48,
   "metadata": {},
   "outputs": [],
   "source": [
    "q = {'query': {'match_all': {}}}\n",
    "# q2 = {'query': {'_mapping': {'session'}}}\n",
    "res = es.search(index='esrecord', body=q)['hits']['hits']"
   ]
  },
  {
   "cell_type": "code",
   "execution_count": 59,
   "metadata": {},
   "outputs": [
    {
     "data": {
      "text/plain": [
       "dict_items([('ID', 344520110), ('ServiceArea', 'DN-150-86'), ('ZoneType', 'Meeting'), ('UserName', 'username10'), ('Name', 'cc-9886_79C66442-7E37-4B0D-B512-E7D1C9EDFC11'), ('MemberNumber', '1'), ('NasIdentifier', 'TEMPLE'), ('CalledStation', '00-50-E8-02-D3-7C'), ('NetworkDeviceType', None), ('VLAN', 311), ('MacAddress', '30-07-4D-2C-51-7B'), ('LogoutTime', '2018-06-27T15:12:19.780000'), ('SessionID', '661E0ABD-00021306'), ('SessionLength', 2790), ('BytesOut', 7582823), ('BytesIn', 93739521), ('TerminationReason', 'NAS-Request'), ('ServicePlan', 'basic day'), ('LoginTime', '2018-06-27T14:25:49.780000')])"
      ]
     },
     "execution_count": 59,
     "metadata": {},
     "output_type": "execute_result"
    }
   ],
   "source": [
    "keys = [k for k, v in res[0]['_source'].items()]\n",
    "# for k, v in res[0]['_source'].items():\n",
    "#     print(k)\n",
    "res[0]['_source'].items()"
   ]
  },
  {
   "cell_type": "code",
   "execution_count": 18,
   "metadata": {},
   "outputs": [],
   "source": [
    "keys = []\n",
    "for k, v in d.items():\n",
    "    keys.append(k)"
   ]
  },
  {
   "cell_type": "code",
   "execution_count": 30,
   "metadata": {},
   "outputs": [
    {
     "data": {
      "text/plain": [
       "True"
      ]
     },
     "execution_count": 30,
     "metadata": {},
     "output_type": "execute_result"
    }
   ],
   "source": [
    "mappings = es.indices.get_mapping(index='esrecord', doc_type='session')['esrecord']['mappings']['session']['properties']\n",
    "mappings_key = []\n",
    "for key, value in mappings.items():\n",
    "    mappings_key.append(key)\n",
    "    \n",
    "keys.sort() == mappings_key.sort()"
   ]
  },
  {
   "cell_type": "code",
   "execution_count": null,
   "metadata": {},
   "outputs": [],
   "source": []
  }
 ],
 "metadata": {
  "kernelspec": {
   "display_name": "Python 3",
   "language": "python",
   "name": "python3"
  },
  "language_info": {
   "codemirror_mode": {
    "name": "ipython",
    "version": 3
   },
   "file_extension": ".py",
   "mimetype": "text/x-python",
   "name": "python",
   "nbconvert_exporter": "python",
   "pygments_lexer": "ipython3",
   "version": "3.6.5"
  }
 },
 "nbformat": 4,
 "nbformat_minor": 2
}
