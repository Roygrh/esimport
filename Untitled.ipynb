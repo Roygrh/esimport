{
 "cells": [
  {
   "cell_type": "code",
   "execution_count": 1,
   "metadata": {},
   "outputs": [],
   "source": [
    "import datetime\n",
    "import requests\n",
    "from elasticsearch import Elasticsearch\n",
    "es = Elasticsearch('localhost:9200')"
   ]
  },
  {
   "cell_type": "code",
   "execution_count": 2,
   "metadata": {},
   "outputs": [],
   "source": [
    "# es.indices.delete(index='esrecord')"
   ]
  },
  {
   "cell_type": "code",
   "execution_count": 3,
   "metadata": {},
   "outputs": [],
   "source": [
    "s = {'_index': 'esrecord',\n",
    " '_type': 'conference',\n",
    " '_id': 1,\n",
    " 'doc_as_upsert': True,\n",
    " '_source': {'Brand': 'Taylor Inc',\n",
    "  'BytesIn': 15358,\n",
    "  'BytesOut': 87282,\n",
    "  'CalledStation': 'QC-AC-TU-DN-Z4-TN',\n",
    "  'CorporateBrand': '',\n",
    "  'Country': 'Papua New Guinea',\n",
    "  'ExtPropId': '',\n",
    "  'ID': 1,\n",
    "  'LoginTime': datetime.datetime(2018, 8, 2, 7, 51, 54),\n",
    "  'LoginTimeLocal': datetime.datetime(2018, 7, 15, 9, 34, 27),\n",
    "  'LogoutTime': datetime.datetime(2018, 7, 14, 3, 45, 35),\n",
    "  'LogoutTimeLocal': datetime.datetime(2018, 8, 1, 3, 31, 44),\n",
    "  'MARSHA_Code': 'UZVWK',\n",
    "  'MacAddress': '49:a2:7d:67:82:d3',\n",
    "  'Name': 'em-qrfw',\n",
    "  'NasIdentifier': 'YRTUC',\n",
    "  'MemberNumber': '6865-CQ-48',\n",
    "  'OwnershipGroup': '',\n",
    "  'PropertyName': 'Cline PLC',\n",
    "  'PropertyNumber': 'IW-474-78',\n",
    "  'Provider': 'Ward, Davidson and Barber',\n",
    "  'Provider_Display_Name': '',\n",
    "  'Region': '',\n",
    "  'ServiceArea': 'XB-995-46',\n",
    "  'SessionID': '34KIFPY0',\n",
    "  'SessionLength': '1506',\n",
    "  'SubRegion': '',\n",
    "  'TaxRate': '',\n",
    "  'TerminationReason': '',\n",
    "  'TimeZone': 'Africa/Harare',\n",
    "  'UserName': 'adam35',\n",
    "  'VLAN': '4892',\n",
    "  'ZoneType': 'GuestRoom'}}"
   ]
  },
  {
   "cell_type": "code",
   "execution_count": 4,
   "metadata": {},
   "outputs": [],
   "source": [
    "# from esimport.mappings.conference import ConferenceMapping"
   ]
  },
  {
   "cell_type": "code",
   "execution_count": 5,
   "metadata": {},
   "outputs": [],
   "source": [
    "# cm = ConferenceMapping()\n",
    "# cm.setup()\n",
    "# cm.add(s,1)"
   ]
  },
  {
   "cell_type": "code",
   "execution_count": 3,
   "metadata": {},
   "outputs": [],
   "source": [
    "from esimport.mappings.account import AccountMapping"
   ]
  },
  {
   "cell_type": "code",
   "execution_count": 5,
   "metadata": {},
   "outputs": [],
   "source": [
    "am = AccountMapping()\n",
    "am.setup()"
   ]
  },
  {
   "cell_type": "code",
   "execution_count": 13,
   "metadata": {},
   "outputs": [
    {
     "data": {
      "text/plain": [
       "<esimport.models.ESRecord at 0x7fc46c149e48>"
      ]
     },
     "execution_count": 13,
     "metadata": {},
     "output_type": "execute_result"
    }
   ],
   "source": [
    "recs = [rec for rec in am.model.get_accounts_by_modified_date('2018-04-05', '2018-04-06')]\n",
    "recs[0]"
   ]
  },
  {
   "cell_type": "code",
   "execution_count": 11,
   "metadata": {},
   "outputs": [
    {
     "data": {
      "text/plain": [
       "'account'"
      ]
     },
     "execution_count": 11,
     "metadata": {},
     "output_type": "execute_result"
    }
   ],
   "source": [
    "recs[0].doc_type"
   ]
  },
  {
   "cell_type": "code",
   "execution_count": null,
   "metadata": {},
   "outputs": [],
   "source": []
  }
 ],
 "metadata": {
  "kernelspec": {
   "display_name": "Python 3",
   "language": "python",
   "name": "python3"
  },
  "language_info": {
   "codemirror_mode": {
    "name": "ipython",
    "version": 3
   },
   "file_extension": ".py",
   "mimetype": "text/x-python",
   "name": "python",
   "nbconvert_exporter": "python",
   "pygments_lexer": "ipython3",
   "version": "3.6.5"
  }
 },
 "nbformat": 4,
 "nbformat_minor": 2
}
