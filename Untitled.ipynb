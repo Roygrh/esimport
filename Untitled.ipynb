{
 "cells": [
  {
   "cell_type": "code",
   "execution_count": 1,
   "metadata": {},
   "outputs": [],
   "source": [
    "import random\n",
    "import string\n",
    "from datetime import datetime, timedelta\n",
    "from esimport.mappings.account import AccountMapping\n",
    "am = AccountMapping()\n",
    "am.setup()"
   ]
  },
  {
   "cell_type": "code",
   "execution_count": 2,
   "metadata": {},
   "outputs": [],
   "source": [
    "account_sql = \"\"\"INSERT INTO [dbo].[Zone_Plan_Account]\n",
    "        (Member_ID, Zone_Plan_ID, Purchase_Price, \n",
    "        Purchase_Price_Currency_ID, Network_Access_Limits_ID, \n",
    "        Payment_Method_ID, Purchase_MAC_Address, Activation_Date_UTC, \n",
    "        Date_Created_UTC,Date_Modified_UTC, PMS_Charge_ID, \n",
    "        Zone_Plan_Account_Status_ID, Upsell_Zone_Plan_Account_ID, Purchase_Org_ID)\n",
    "        VALUES \n",
    "        (1, 1, 12.95, 1, 1, 1, '34-C0-59-D8-31-08', '2014-01-04 07:38:24.370', \n",
    "        '{}', '2018-04-05 10:31:46.768',\n",
    "        1, 1, NULL, 1)\"\"\"\n",
    "session_sql_event_history = \"\"\"INSERT INTO Radius.dbo.Radius_Event_History(User_Name, \n",
    "                Organization_ID, Member_ID, NAS_Identifier, Called_Station_Id, VLAN, \n",
    "                Calling_Station_Id, Date_UTC)\n",
    "                VALUES\n",
    "                ('username1', 1, 1, 'E8-1D-A8-20-1B-88', 'E8-1D-A8-20-1B-88:WOODSPRING_GUEST', \n",
    "                95, '5C-52-1E-60-6A-17', '{}')\"\"\"\n",
    "session_sql_event = \"\"\"INSERT INTO Radius.dbo.Radius_Event (User_Name, Member_ID, \n",
    "                    Organization_ID, Date_UTC, NAS_Identifier, Called_Station_Id, \n",
    "                    VLAN, Calling_Station_Id)\n",
    "                    VALUES \n",
    "                    ('username1', 1, 1, '{}', \n",
    "                    'E8-1D-A8-20-1B-88', 'E8-1D-A8-20-1B-88:WOODSPRING_GUEST',\n",
    "                    95, '5C-52-1E-60-6A-17')\"\"\""
   ]
  },
  {
   "cell_type": "code",
   "execution_count": 3,
   "metadata": {},
   "outputs": [],
   "source": [
    "radius_acct_event_sql = \"\"\"INSERT INTO Radius.dbo.Radius_Acct_Event\n",
    "                    (Session_ID, Radius_Event_ID)\n",
    "                    VALUES\n",
    "                    ('{session_id}', '{radius_event_id}')\"\"\"\n",
    "radius_stop_event_sql = \"\"\"INSERT INTO Radius.dbo.Radius_Stop_Event\n",
    "                        (Radius_Acct_Event_ID, Acct_Terminate_Cause, \n",
    "                        Acct_Session_Time, Acct_Output_Octets, \n",
    "                        Acct_Input_Octets)\n",
    "                        VALUES\n",
    "                        ('{radius_event_id}', 1, 9354, 43787611, 24313077)\"\"\"\n",
    "radius_event_history_sql = \"\"\"INSERT INTO Radius.dbo.Radius_Event_History(User_Name, \n",
    "                            Organization_ID, Member_ID, NAS_Identifier, Called_Station_Id, \n",
    "                            VLAN, Calling_Station_Id, Date_UTC)\n",
    "                            VALUES\n",
    "                            ('username{user_id}', 1, 1, 'E8-1D-A8-20-1B-88', \n",
    "                            'E8-1D-A8-20-1B-88:WOODSPRING_GUEST', 95, \n",
    "                            '5C-52-1E-60-6A-17', '{date_utc}')\"\"\"\n",
    "radius_event_sql = \"\"\"INSERT INTO Radius.dbo.Radius_Event (User_Name, \n",
    "                    Member_ID, Organization_ID, Date_UTC, NAS_Identifier, \n",
    "                    Called_Station_Id, VLAN, Calling_Station_Id)\n",
    "                    VALUES\n",
    "                    ('username{user_id}', 1, 1, \n",
    "                    '{date_utc}', \n",
    "                    'E8-1D-A8-20-1B-88', 'E8-1D-A8-20-1B-88:WOODSPRING_GUEST', \n",
    "                    95, '5C-52-1E-60-6A-17')\"\"\"\n",
    "\n",
    "letters = string.ascii_uppercase\n",
    "dt_now = datetime.now()\n",
    "\n",
    "for i in range(10):\n",
    "    dt_str = dt_now.strftime('%Y-%m-%d %H:%M:%S')\n",
    "    random_str = ''.join(random.choice(letters) for i in range(10))\n",
    "    # Radius_Acct_Event sql\n",
    "    sql = radius_acct_event_sql.format(session_id=random_str, radius_event_id=i+1)\n",
    "    am.model.execute(sql).commit()\n",
    "    # Radius_Stop_Event sql\n",
    "    sql = radius_stop_event_sql.format(radius_event_id=i+1)\n",
    "    am.model.execute(sql).commit()\n",
    "    # Radius_Event_History sql\n",
    "    sql = radius_event_history_sql.format(user_id=i+1, date_utc=dt_str)\n",
    "    am.model.execute(sql).commit()\n",
    "    # Radius_Event sql\n",
    "    sql = radius_event_sql.format(user_id=i+1, date_utc=dt_str)\n",
    "    am.model.execute(sql).commit()\n",
    "    # minus one month\n",
    "    dt_now = dt_now - timedelta(days=31)"
   ]
  },
  {
   "cell_type": "code",
   "execution_count": 6,
   "metadata": {},
   "outputs": [],
   "source": [
    "dt_now = datetime.now()\n",
    "for _ in range(10):\n",
    "    dt_str = dt_now.strftime('%Y-%m-%d %H:%M:%S')\n",
    "    for _ in range(10):\n",
    "        am.model.execute(account_sql.format(dt_str)).commit()\n",
    "    dt_now = dt_now - timedelta(days=31)"
   ]
  },
  {
   "cell_type": "code",
   "execution_count": null,
   "metadata": {},
   "outputs": [],
   "source": []
  },
  {
   "cell_type": "code",
   "execution_count": null,
   "metadata": {},
   "outputs": [],
   "source": [
    "dt = datetime.now()"
   ]
  },
  {
   "cell_type": "code",
   "execution_count": null,
   "metadata": {},
   "outputs": [],
   "source": [
    "dt.strftime('%Y-%m-%d %H:%M:%S')"
   ]
  },
  {
   "cell_type": "code",
   "execution_count": null,
   "metadata": {},
   "outputs": [],
   "source": [
    "dt1 = dt - timedelta(days=31)"
   ]
  },
  {
   "cell_type": "code",
   "execution_count": null,
   "metadata": {},
   "outputs": [],
   "source": [
    "dt1.strftime('%Y-%m-%d %H:%M:%S')"
   ]
  }
 ],
 "metadata": {
  "kernelspec": {
   "display_name": "Python 3",
   "language": "python",
   "name": "python3"
  },
  "language_info": {
   "codemirror_mode": {
    "name": "ipython",
    "version": 3
   },
   "file_extension": ".py",
   "mimetype": "text/x-python",
   "name": "python",
   "nbconvert_exporter": "python",
   "pygments_lexer": "ipython3",
   "version": "3.6.8"
  }
 },
 "nbformat": 4,
 "nbformat_minor": 2
}
