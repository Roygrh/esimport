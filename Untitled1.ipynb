{
 "cells": [
  {
   "cell_type": "code",
   "execution_count": 21,
   "metadata": {},
   "outputs": [],
   "source": [
    "from elasticsearch import Elasticsearch\n",
    "es = Elasticsearch('localhost:9200')"
   ]
  },
  {
   "cell_type": "code",
   "execution_count": 23,
   "metadata": {},
   "outputs": [
    {
     "data": {
      "text/plain": [
       "{'took': 2,\n",
       " 'timed_out': False,\n",
       " '_shards': {'total': 9, 'successful': 9, 'failed': 0},\n",
       " 'hits': {'total': 3,\n",
       "  'max_score': 1.0,\n",
       "  'hits': [{'_index': 'esrecord',\n",
       "    '_type': 'account',\n",
       "    '_id': '1',\n",
       "    '_score': 1.0,\n",
       "    '_source': {'ID': 1,\n",
       "     'Name': 'cc-9886_79C66442-7E37-4B0D-B512-E7D1C9EDFC11',\n",
       "     'MemberNumber': '1',\n",
       "     'Status': 'Status',\n",
       "     'ServiceArea': 'FF-471-20',\n",
       "     'Price': 12.95,\n",
       "     'PurchaseMacAddress': '34-C0-59-D8-31-08',\n",
       "     'Activated': '2014-01-04T07:38:24.370000',\n",
       "     'Created': '2014-01-04T07:38:24.357000',\n",
       "     'DateModifiedUTC': '2018-05-02T09:15:11.237000',\n",
       "     'ServicePlan': 'basic day',\n",
       "     'ServicePlanNumber': 'basic_day_01',\n",
       "     'UpCap': 1236,\n",
       "     'DownCap': 4196,\n",
       "     'NetworkAccessStartDateUTC': '2014-01-04T07:38:24.357000',\n",
       "     'NetworkAccessEndDateUTC': '2018-04-05T10:31:46.767000',\n",
       "     'PayMethod': 'Card',\n",
       "     'Currency': 'USD',\n",
       "     'CreditCardNumber': None,\n",
       "     'CardType': None,\n",
       "     'LastName': 'trava',\n",
       "     'RoomNumber': '4051',\n",
       "     'DiscountCode': 'DC03',\n",
       "     'ConsumableTime': 2,\n",
       "     'ConsumableUnit': 'Hours',\n",
       "     'SpanTime': None,\n",
       "     'SpanUnit': None,\n",
       "     'ConnectCode': None,\n",
       "     'MarketingContact': None,\n",
       "     'ZoneType': None,\n",
       "     'Duration': '2 Hours consumable'}},\n",
       "   {'_index': 'esrecord',\n",
       "    '_type': 'account',\n",
       "    '_id': '2',\n",
       "    '_score': 1.0,\n",
       "    '_source': {'ID': 2,\n",
       "     'Name': 'rt-0400_26C55BA3-1C56-4409-92F0-6E60CD4C4E56',\n",
       "     'MemberNumber': '2',\n",
       "     'Status': 'Status',\n",
       "     'ServiceArea': 'FF-471-20',\n",
       "     'Price': 12.95,\n",
       "     'PurchaseMacAddress': '4C-B1-99-0A-4A-96',\n",
       "     'Activated': '2014-01-04T07:38:52.080000',\n",
       "     'Created': '2014-01-04T07:38:52.070000',\n",
       "     'DateModifiedUTC': '2018-05-02T09:15:11.247000',\n",
       "     'ServicePlan': 'basic day',\n",
       "     'ServicePlanNumber': 'basic_day_01',\n",
       "     'UpCap': 316,\n",
       "     'DownCap': 1106,\n",
       "     'NetworkAccessStartDateUTC': '2014-01-04T07:38:52.070000',\n",
       "     'NetworkAccessEndDateUTC': '2018-04-05T10:32:45.537000',\n",
       "     'PayMethod': 'Card',\n",
       "     'Currency': 'USD',\n",
       "     'CreditCardNumber': None,\n",
       "     'CardType': None,\n",
       "     'LastName': 'Hansen',\n",
       "     'RoomNumber': '1635',\n",
       "     'DiscountCode': 'DC03',\n",
       "     'ConsumableTime': None,\n",
       "     'ConsumableUnit': None,\n",
       "     'SpanTime': 1,\n",
       "     'SpanUnit': 'Days',\n",
       "     'ConnectCode': None,\n",
       "     'MarketingContact': None,\n",
       "     'ZoneType': None,\n",
       "     'Duration': '1 Days'}},\n",
       "   {'_index': 'esrecord',\n",
       "    '_type': 'account',\n",
       "    '_id': '3',\n",
       "    '_score': 1.0,\n",
       "    '_source': {'ID': 3,\n",
       "     'Name': 'ug-7738_2F437425-D944-4AC6-B7E5-9A19EBF23320',\n",
       "     'MemberNumber': '3',\n",
       "     'Status': 'Status',\n",
       "     'ServiceArea': 'DN-150-86',\n",
       "     'Price': 5.0,\n",
       "     'PurchaseMacAddress': '14-10-9F-DF-53-83',\n",
       "     'Activated': '2014-01-04T07:48:47.147000',\n",
       "     'Created': '2014-01-04T07:48:47.143000',\n",
       "     'DateModifiedUTC': '2018-05-02T09:15:11.253000',\n",
       "     'ServicePlan': 'premium day',\n",
       "     'ServicePlanNumber': 'prem_day_01',\n",
       "     'UpCap': 1036,\n",
       "     'DownCap': 6096,\n",
       "     'NetworkAccessStartDateUTC': '2014-01-04T07:48:47.143000',\n",
       "     'NetworkAccessEndDateUTC': '2018-04-05T10:33:19.593000',\n",
       "     'PayMethod': 'Card',\n",
       "     'Currency': 'USD',\n",
       "     'CreditCardNumber': None,\n",
       "     'CardType': None,\n",
       "     'LastName': 'andrews',\n",
       "     'RoomNumber': '320',\n",
       "     'DiscountCode': 'HALFOFF',\n",
       "     'ConsumableTime': 2,\n",
       "     'ConsumableUnit': 'Hours',\n",
       "     'SpanTime': None,\n",
       "     'SpanUnit': None,\n",
       "     'ConnectCode': None,\n",
       "     'MarketingContact': None,\n",
       "     'ZoneType': None,\n",
       "     'Duration': '2 Hours consumable'}}]}}"
      ]
     },
     "execution_count": 23,
     "metadata": {},
     "output_type": "execute_result"
    }
   ],
   "source": [
    "q = {'query': {'match_all': {}}}\n",
    "es.search(index='esrecord', body=q)"
   ]
  },
  {
   "cell_type": "code",
   "execution_count": 14,
   "metadata": {},
   "outputs": [],
   "source": [
    "import dateutil\n",
    "import datetime"
   ]
  },
  {
   "cell_type": "code",
   "execution_count": 15,
   "metadata": {},
   "outputs": [],
   "source": [
    "x = dateutil.parser.parse('2018-08-01T03:31:44')"
   ]
  },
  {
   "cell_type": "code",
   "execution_count": 16,
   "metadata": {},
   "outputs": [],
   "source": [
    "from datetime import timedelta\n",
    "d = timedelta(minutes=10)"
   ]
  },
  {
   "cell_type": "code",
   "execution_count": 17,
   "metadata": {},
   "outputs": [
    {
     "data": {
      "text/plain": [
       "True"
      ]
     },
     "execution_count": 17,
     "metadata": {},
     "output_type": "execute_result"
    }
   ],
   "source": [
    "x + d < datetime.datetime.now()"
   ]
  },
  {
   "cell_type": "code",
   "execution_count": null,
   "metadata": {},
   "outputs": [],
   "source": []
  }
 ],
 "metadata": {
  "kernelspec": {
   "display_name": "Python 3",
   "language": "python",
   "name": "python3"
  },
  "language_info": {
   "codemirror_mode": {
    "name": "ipython",
    "version": 3
   },
   "file_extension": ".py",
   "mimetype": "text/x-python",
   "name": "python",
   "nbconvert_exporter": "python",
   "pygments_lexer": "ipython3",
   "version": "3.6.5"
  }
 },
 "nbformat": 4,
 "nbformat_minor": 2
}
