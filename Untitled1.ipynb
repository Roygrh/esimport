{
 "cells": [
  {
   "cell_type": "code",
   "execution_count": 1,
   "metadata": {},
   "outputs": [
    {
     "name": "stderr",
     "output_type": "stream",
     "text": [
      "/home/tanjibpa/.virtualenvs/esimport/lib/python3.6/site-packages/requests/__init__.py:80: RequestsDependencyWarning: urllib3 (1.23) or chardet (3.0.4) doesn't match a supported version!\n",
      "  RequestsDependencyWarning)\n"
     ]
    }
   ],
   "source": [
    "from esimport.models.session import Session\n",
    "from esimport.connectors.mssql import MsSQLConnector\n",
    "from esimport.mappings.session import SessionMapping\n",
    "from elasticsearch import Elasticsearch"
   ]
  },
  {
   "cell_type": "code",
   "execution_count": 2,
   "metadata": {},
   "outputs": [],
   "source": [
    "conn = MsSQLConnector()"
   ]
  },
  {
   "cell_type": "code",
   "execution_count": 3,
   "metadata": {},
   "outputs": [],
   "source": [
    "sm = Session(conn)"
   ]
  },
  {
   "cell_type": "code",
   "execution_count": 5,
   "metadata": {},
   "outputs": [],
   "source": [
    "result = []"
   ]
  },
  {
   "cell_type": "code",
   "execution_count": 6,
   "metadata": {},
   "outputs": [],
   "source": [
    "# while len(result)<=180:\n",
    "#     result.append(sm.get_sessions(1, 1000, '2018-06-27'))"
   ]
  },
  {
   "cell_type": "code",
   "execution_count": 7,
   "metadata": {},
   "outputs": [],
   "source": [
    "len(result)\n",
    "es = Elasticsearch('localhost:9200')"
   ]
  },
  {
   "cell_type": "code",
   "execution_count": 8,
   "metadata": {},
   "outputs": [],
   "source": [
    "# es.search(index='esrecord', body={'query': {'term': {'_type': 'session'}}})\n",
    "# es.indices.delete(index='esrecord')"
   ]
  },
  {
   "cell_type": "code",
   "execution_count": 12,
   "metadata": {},
   "outputs": [],
   "source": [
    "sm = SessionMapping()\n",
    "sm.setup()\n",
    "c = sm.model.execute(\"\"\"\n",
    "USE [Eleven_OS]\n",
    "\n",
    "IF (EXISTS (SELECT * \n",
    "                 FROM INFORMATION_SCHEMA.TABLES \n",
    "                 WHERE TABLE_SCHEMA = 'dbo' \n",
    "                 AND  TABLE_NAME = 'NAS_Device'))\n",
    "BEGIN\n",
    "DROP TABLE [dbo].[NAS_Device]\n",
    "END\n",
    "\n",
    "/****** Object:  Table [dbo].[NAS_Device]    Script Date: 4/26/2018 12:32:19 PM ******/\n",
    "SET ANSI_NULLS ON\n",
    "SET QUOTED_IDENTIFIER ON\n",
    "CREATE TABLE [dbo].[NAS_Device](\n",
    "\t[ID] [int] IDENTITY(1,1) NOT FOR REPLICATION NOT NULL,\n",
    "\t[UID] [uniqueidentifier] NOT NULL,\n",
    "\t[Organization_ID] [int] NOT NULL,\n",
    "\t[NAS_ID] [varchar](64) NOT NULL,\n",
    "\t[Net_MAC_Address] [varchar](64) NOT NULL,\n",
    "\t[VLAN_Range_Start] [int] NOT NULL,\n",
    "\t[VLAN_Range_End] [int] NOT NULL,\n",
    "\t[Radius_NAS_ID] [varchar](128) NULL,\n",
    "\t[Net_IP] [varchar](64) NULL,\n",
    "\t[Routable_Net_IP] [varchar](64) NULL,\n",
    "\t[Net_Hostname] [varchar](256) NULL,\n",
    "\t[Subscriber_IP] [varchar](64) NULL,\n",
    "\t[Routable_Subscriber_IP] [varchar](64) NULL,\n",
    "\t[Subscriber_Hostname] [varchar](256) NULL,\n",
    "\t[Subnet_Mask] [varchar](64) NULL,\n",
    "\t[Gateway_IP] [varchar](64) NULL,\n",
    "\t[Admin_Username] [varchar](32) NULL,\n",
    "\t[Admin_Password] [varchar](32) NULL,\n",
    "\t[Admin_Port] [int] NULL,\n",
    "\t[NAS_Device_Status_ID] [int] NOT NULL,\n",
    "\t[NAS_Device_Type_ID] [int] NOT NULL,\n",
    "\t[PMS_Meta_Refresh_Enabled] [bit] NULL,\n",
    "\t[PMS_Auth_Expiry_Seconds] [int] NULL,\n",
    "\t[PMS_Auth_Timeout_Seconds] [int] NULL,\n",
    "\t[PMS_Auth_Retry_Delay_Seconds] [int] NULL,\n",
    "\t[PMS_Meta_Refresh_Expiry_Seconds] [int] NULL,\n",
    "\t[PMS_Meta_Refresh_Delay_Seconds] [int] NULL,\n",
    "\t[Subnet] [int] NOT NULL,\n",
    "\t[Mask] [int] NOT NULL,\n",
    "\t[SNMP_IP] [varchar](64) NULL,\n",
    "\t[SNMP_Port] [int] NULL,\n",
    "\t[SNMP_Read_Community] [varchar](128) NULL,\n",
    "\t[SNMP_Write_Community] [varchar](128) NULL,\n",
    "\t[SNMP_User] [varchar](128) NULL,\n",
    "\t[SNMP_Auth_Phrase] [varchar](128) NULL,\n",
    "\t[SNMP_Privacy_Phrase] [varchar](128) NULL,\n",
    "\t[Needs_Reboot] [bit] NULL,\n",
    "\t[Telnet_IP] [varchar](64) NULL,\n",
    "\t[Telnet_Port] [int] NULL,\n",
    "\t[Local_User] [varchar](128) NULL,\n",
    "\t[Local_Password] [varchar](128) NULL,\n",
    "\t[SSH_IP] [varchar](64) NULL,\n",
    "\t[SSH_Port] [int] NULL,\n",
    "\t[Erad_Dirty] [bit] NOT NULL,\n",
    "\t[Match_To_Identifier] [bit] NULL,\n",
    "\t[RADIUS_DM_Port] [int] NULL,\n",
    "\t[Auth_Unknown] [bit] NOT NULL,\n",
    "\t[Blob] [varchar](max) NULL,\n",
    "\t[RADIUS_DM_Hostname] [varchar](256) NULL,\n",
    " CONSTRAINT [PK_NAS_Device] PRIMARY KEY CLUSTERED \n",
    "(\n",
    "\t[ID] ASC\n",
    ")WITH (PAD_INDEX = OFF, STATISTICS_NORECOMPUTE = OFF, IGNORE_DUP_KEY = OFF, ALLOW_ROW_LOCKS = ON, ALLOW_PAGE_LOCKS = ON, FILLFACTOR = 75) ON [PRIMARY],\n",
    " CONSTRAINT [UQ_NAS_Device] UNIQUE NONCLUSTERED \n",
    "(\n",
    "\t[UID] ASC\n",
    ")WITH (PAD_INDEX = OFF, STATISTICS_NORECOMPUTE = OFF, IGNORE_DUP_KEY = OFF, ALLOW_ROW_LOCKS = ON, ALLOW_PAGE_LOCKS = ON, FILLFACTOR = 75) ON [PRIMARY]\n",
    ") ON [PRIMARY] TEXTIMAGE_ON [PRIMARY]\n",
    "\n",
    "SET IDENTITY_INSERT NAS_Device ON\n",
    "INSERT [dbo].[NAS_Device](ID,UID,Organization_ID,NAS_ID,Net_MAC_Address,VLAN_Range_Start,VLAN_Range_End,Radius_NAS_ID,Net_IP,Routable_Net_IP,Net_Hostname,Subscriber_IP,Routable_Subscriber_IP,Subscriber_Hostname,Subnet_Mask,Gateway_IP,Admin_Username,Admin_Password,Admin_Port,NAS_Device_Status_ID,NAS_Device_Type_ID,PMS_Meta_Refresh_Enabled,PMS_Auth_Expiry_Seconds,PMS_Auth_Timeout_Seconds,PMS_Auth_Retry_Delay_Seconds,PMS_Meta_Refresh_Expiry_Seconds,PMS_Meta_Refresh_Delay_Seconds,Subnet,Mask,SNMP_IP,SNMP_Port,SNMP_Read_Community,SNMP_Write_Community,SNMP_User,SNMP_Auth_Phrase,SNMP_Privacy_Phrase,Needs_Reboot,Telnet_IP,Telnet_Port,Local_User,Local_Password,SSH_IP,SSH_Port,Erad_Dirty,Match_To_Identifier,RADIUS_DM_Port,Auth_Unknown,Blob,RADIUS_DM_Hostname)\n",
    "VALUES (9,'A20D3427-65B2-4A4D-9373-8DAC14359428',22,'020007','E8-1D-A8-20-1B-88:WOODSPRING_GUEST',0,0,'Hotel Eleven','131.252.16.72',NULL,NULL,'67.50.162.71',NULL,NULL,'255.255.255.224','67.50.162.65','11admin','w!f!eleven',80,3,1,NULL,NULL,NULL,NULL,NULL,NULL,0,0,NULL,NULL,NULL,NULL,NULL,NULL,NULL,NULL,NULL,NULL,NULL,NULL,NULL,NULL,0,NULL,NULL,0,NULL,NULL)\n",
    "INSERT [dbo].[NAS_Device](ID,UID,Organization_ID,NAS_ID,Net_MAC_Address,VLAN_Range_Start,VLAN_Range_End,Radius_NAS_ID,Net_IP,Routable_Net_IP,Net_Hostname,Subscriber_IP,Routable_Subscriber_IP,Subscriber_Hostname,Subnet_Mask,Gateway_IP,Admin_Username,Admin_Password,Admin_Port,NAS_Device_Status_ID,NAS_Device_Type_ID,PMS_Meta_Refresh_Enabled,PMS_Auth_Expiry_Seconds,PMS_Auth_Timeout_Seconds,PMS_Auth_Retry_Delay_Seconds,PMS_Meta_Refresh_Expiry_Seconds,PMS_Meta_Refresh_Delay_Seconds,Subnet,Mask,SNMP_IP,SNMP_Port,SNMP_Read_Community,SNMP_Write_Community,SNMP_User,SNMP_Auth_Phrase,SNMP_Privacy_Phrase,Needs_Reboot,Telnet_IP,Telnet_Port,Local_User,Local_Password,SSH_IP,SSH_Port,Erad_Dirty,Match_To_Identifier,RADIUS_DM_Port,Auth_Unknown,Blob,RADIUS_DM_Hostname)\n",
    "VALUES (10,'1A16206A-D3CA-4143-9EE9-6D6E4D129BA1',23,'001558','00-50-E8-04-0F-0A',0,0,'Eleven Wireless: Testing',NULL,NULL,NULL,NULL,NULL,NULL,NULL,NULL,NULL,NULL,80,1,1,NULL,NULL,NULL,NULL,NULL,NULL,0,0,NULL,NULL,NULL,NULL,NULL,NULL,NULL,NULL,NULL,NULL,NULL,NULL,NULL,NULL,0,NULL,NULL,0,NULL,NULL)\n",
    "\"\"\").commit()"
   ]
  },
  {
   "cell_type": "code",
   "execution_count": 11,
   "metadata": {},
   "outputs": [],
   "source": [
    "c\n",
    "# sm = SessionMapping()\n",
    "# sm.setup()\n",
    "# time_end = time.time() + 5\n",
    "# while time.time() < time_end:\n",
    "#     sm.sync('2018-06-27')"
   ]
  },
  {
   "cell_type": "code",
   "execution_count": null,
   "metadata": {},
   "outputs": [],
   "source": [
    "\n"
   ]
  }
 ],
 "metadata": {
  "kernelspec": {
   "display_name": "Python 3",
   "language": "python",
   "name": "python3"
  },
  "language_info": {
   "codemirror_mode": {
    "name": "ipython",
    "version": 3
   },
   "file_extension": ".py",
   "mimetype": "text/x-python",
   "name": "python",
   "nbconvert_exporter": "python",
   "pygments_lexer": "ipython3",
   "version": "3.6.5"
  }
 },
 "nbformat": 4,
 "nbformat_minor": 2
}
